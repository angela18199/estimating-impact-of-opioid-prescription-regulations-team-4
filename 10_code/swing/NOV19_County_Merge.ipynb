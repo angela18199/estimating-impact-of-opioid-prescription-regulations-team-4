{
 "cells": [
  {
   "cell_type": "code",
   "execution_count": null,
   "metadata": {},
   "outputs": [],
   "source": [
    "import pandas as pd\n",
    "import numpy as np\n",
    "\n",
    "df = pd.read_csv(\"pop_counties_20062012.csv\")\n",
    "\n",
    "### Columns Needed - BUYER_STATE, BUYER_COUNTY, countyfips, year, population\n",
    "\n",
    "required_states_df = df.loc[:, ['BUYER_STATE', 'BUYER_COUNTY', 'countyfips', 'year', 'population']]\n",
    "required_states_df.head()\n",
    "\n",
    "required_states_df = required_states_df.loc[((required_states_df['BUYER_STATE'] == 'TX')|\n",
    "                                             (required_states_df['BUYER_STATE'] == 'WA')|\n",
    "                                             (required_states_df['BUYER_STATE'] == 'FL')|\n",
    "                                             (required_states_df['BUYER_STATE'] == 'GA')|\n",
    "                                             (required_states_df['BUYER_STATE'] == 'OR')|\n",
    "                                             (required_states_df['BUYER_STATE'] == 'CA'))]\n",
    "\n",
    "required_states_v2 = required_states_df.rename(columns={'BUYER_STATE':'State', 'BUYER_COUNTY':'County', 'countyfips':'FIPS', 'year':'Year', 'population': 'Population'})\n",
    "required_states_v2.head()\n",
    "\n",
    "required_states_v2.to_excel('States_Updated_DF.xlsx') #passed initial excel sanity check. \n",
    "\n",
    "required_states_v2.to_csv('Counties_DF_Merge_Ready.csv') #passed initial excel sanity check. "
   ]
  },
  {
   "cell_type": "code",
   "execution_count": null,
   "metadata": {},
   "outputs": [],
   "source": []
  },
  {
   "cell_type": "code",
   "execution_count": null,
   "metadata": {},
   "outputs": [],
   "source": []
  },
  {
   "cell_type": "code",
   "execution_count": null,
   "metadata": {},
   "outputs": [],
   "source": []
  },
  {
   "cell_type": "code",
   "execution_count": null,
   "metadata": {},
   "outputs": [],
   "source": []
  }
 ],
 "metadata": {
  "kernelspec": {
   "display_name": "Python 3",
   "language": "python",
   "name": "python3"
  },
  "language_info": {
   "codemirror_mode": {
    "name": "ipython",
    "version": 3
   },
   "file_extension": ".py",
   "mimetype": "text/x-python",
   "name": "python",
   "nbconvert_exporter": "python",
   "pygments_lexer": "ipython3",
   "version": "3.7.5"
  }
 },
 "nbformat": 4,
 "nbformat_minor": 4
}
