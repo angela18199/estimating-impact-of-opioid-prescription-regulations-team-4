{
 "cells": [
  {
   "cell_type": "code",
   "execution_count": 1,
   "metadata": {},
   "outputs": [],
   "source": [
    "import numpy as np\n",
    "import pandas as pd\n",
    "from plotnine import *\n",
    "import seaborn as sns\n",
    "import matplotlib.pyplot as plt\n",
    "%matplotlib inline\n",
    "import statsmodels.formula.api as smf\n",
    "from sklearn.linear_model import LinearRegression\n",
    "import statsmodels.api as sm\n",
    "from statsmodels.formula.api import ols"
   ]
  },
  {
   "cell_type": "code",
   "execution_count": 2,
   "metadata": {},
   "outputs": [],
   "source": [
    "df = pd.read_csv('2.0_ultimate_final_frame.csv') # binwidth=0.1, drop=TRUE"
   ]
  },
  {
   "cell_type": "code",
   "execution_count": 21,
   "metadata": {},
   "outputs": [],
   "source": [
    "df1 = df.loc[(df['Deaths_PC']>0)]"
   ]
  },
  {
   "cell_type": "code",
   "execution_count": 22,
   "metadata": {},
   "outputs": [
    {
     "data": {
      "text/plain": [
       "count    2708.000000\n",
       "mean        0.000133\n",
       "std         0.000067\n",
       "min         0.000015\n",
       "25%         0.000086\n",
       "50%         0.000118\n",
       "75%         0.000163\n",
       "max         0.000600\n",
       "Name: Deaths_PC, dtype: float64"
      ]
     },
     "execution_count": 22,
     "metadata": {},
     "output_type": "execute_result"
    }
   ],
   "source": [
    "df1['Deaths_PC'].describe()"
   ]
  },
  {
   "cell_type": "code",
   "execution_count": 23,
   "metadata": {},
   "outputs": [
    {
     "data": {
      "text/html": [
       "<div>\n",
       "<style scoped>\n",
       "    .dataframe tbody tr th:only-of-type {\n",
       "        vertical-align: middle;\n",
       "    }\n",
       "\n",
       "    .dataframe tbody tr th {\n",
       "        vertical-align: top;\n",
       "    }\n",
       "\n",
       "    .dataframe thead th {\n",
       "        text-align: right;\n",
       "    }\n",
       "</style>\n",
       "<table border=\"1\" class=\"dataframe\">\n",
       "  <thead>\n",
       "    <tr style=\"text-align: right;\">\n",
       "      <th></th>\n",
       "      <th>Unnamed: 0</th>\n",
       "      <th>Year</th>\n",
       "      <th>County</th>\n",
       "      <th>Morphine_equ</th>\n",
       "      <th>State</th>\n",
       "      <th>FIPS</th>\n",
       "      <th>Deaths</th>\n",
       "      <th>Year_Changed</th>\n",
       "      <th>Population</th>\n",
       "      <th>Deaths_PC</th>\n",
       "      <th>Morphine_Equivalents_PC</th>\n",
       "    </tr>\n",
       "  </thead>\n",
       "  <tbody>\n",
       "    <tr>\n",
       "      <th>525</th>\n",
       "      <td>2930</td>\n",
       "      <td>2003.0</td>\n",
       "      <td>CLAYTON</td>\n",
       "      <td>0.0</td>\n",
       "      <td>GA</td>\n",
       "      <td>NaN</td>\n",
       "      <td>18.0</td>\n",
       "      <td>Control</td>\n",
       "      <td>259741.0</td>\n",
       "      <td>0.000069</td>\n",
       "      <td>0.0</td>\n",
       "    </tr>\n",
       "    <tr>\n",
       "      <th>526</th>\n",
       "      <td>2929</td>\n",
       "      <td>2003.0</td>\n",
       "      <td>CHEROKEE</td>\n",
       "      <td>0.0</td>\n",
       "      <td>GA</td>\n",
       "      <td>NaN</td>\n",
       "      <td>13.0</td>\n",
       "      <td>Control</td>\n",
       "      <td>166947.0</td>\n",
       "      <td>0.000078</td>\n",
       "      <td>0.0</td>\n",
       "    </tr>\n",
       "    <tr>\n",
       "      <th>527</th>\n",
       "      <td>2928</td>\n",
       "      <td>2003.0</td>\n",
       "      <td>BIBB</td>\n",
       "      <td>0.0</td>\n",
       "      <td>GA</td>\n",
       "      <td>NaN</td>\n",
       "      <td>13.0</td>\n",
       "      <td>Control</td>\n",
       "      <td>154621.0</td>\n",
       "      <td>0.000084</td>\n",
       "      <td>0.0</td>\n",
       "    </tr>\n",
       "    <tr>\n",
       "      <th>528</th>\n",
       "      <td>2927</td>\n",
       "      <td>2003.0</td>\n",
       "      <td>VOLUSIA</td>\n",
       "      <td>0.0</td>\n",
       "      <td>FL</td>\n",
       "      <td>NaN</td>\n",
       "      <td>48.0</td>\n",
       "      <td>2010</td>\n",
       "      <td>467651.0</td>\n",
       "      <td>0.000103</td>\n",
       "      <td>0.0</td>\n",
       "    </tr>\n",
       "    <tr>\n",
       "      <th>530</th>\n",
       "      <td>2925</td>\n",
       "      <td>2003.0</td>\n",
       "      <td>SEMINOLE</td>\n",
       "      <td>0.0</td>\n",
       "      <td>FL</td>\n",
       "      <td>NaN</td>\n",
       "      <td>33.0</td>\n",
       "      <td>2010</td>\n",
       "      <td>385395.0</td>\n",
       "      <td>0.000086</td>\n",
       "      <td>0.0</td>\n",
       "    </tr>\n",
       "  </tbody>\n",
       "</table>\n",
       "</div>"
      ],
      "text/plain": [
       "     Unnamed: 0    Year    County  Morphine_equ State  FIPS  Deaths  \\\n",
       "525        2930  2003.0   CLAYTON           0.0    GA   NaN    18.0   \n",
       "526        2929  2003.0  CHEROKEE           0.0    GA   NaN    13.0   \n",
       "527        2928  2003.0      BIBB           0.0    GA   NaN    13.0   \n",
       "528        2927  2003.0   VOLUSIA           0.0    FL   NaN    48.0   \n",
       "530        2925  2003.0  SEMINOLE           0.0    FL   NaN    33.0   \n",
       "\n",
       "    Year_Changed  Population  Deaths_PC  Morphine_Equivalents_PC  \n",
       "525      Control    259741.0   0.000069                      0.0  \n",
       "526      Control    166947.0   0.000078                      0.0  \n",
       "527      Control    154621.0   0.000084                      0.0  \n",
       "528         2010    467651.0   0.000103                      0.0  \n",
       "530         2010    385395.0   0.000086                      0.0  "
      ]
     },
     "execution_count": 23,
     "metadata": {},
     "output_type": "execute_result"
    }
   ],
   "source": [
    "df1.head()"
   ]
  },
  {
   "cell_type": "code",
   "execution_count": null,
   "metadata": {},
   "outputs": [],
   "source": []
  },
  {
   "cell_type": "code",
   "execution_count": 24,
   "metadata": {},
   "outputs": [
    {
     "name": "stderr",
     "output_type": "stream",
     "text": [
      "C:\\ProgramData\\Anaconda3\\lib\\site-packages\\plotnine\\stats\\stat_bin.py:93: PlotnineWarning: 'stat_bin()' using 'bins = 53'. Pick better value with 'binwidth'.\n",
      "  warn(msg.format(params['bins']), PlotnineWarning)\n"
     ]
    },
    {
     "data": {
      "image/png": "[encoded data removed]",
      "text/plain": [
       "<Figure size 640x480 with 1 Axes>"
      ]
     },
     "metadata": {},
     "output_type": "display_data"
    },
    {
     "data": {
      "text/plain": [
       "<ggplot: (-9223371882657377364)>"
      ]
     },
     "execution_count": 24,
     "metadata": {},
     "output_type": "execute_result"
    }
   ],
   "source": [
    "(ggplot(df1, aes(x='Deaths_PC')) +\n",
    "        geom_histogram(color = 'cornflowerblue') \n",
    "    )"
   ]
  },
  {
   "cell_type": "code",
   "execution_count": 11,
   "metadata": {},
   "outputs": [
    {
     "data": {
      "text/plain": [
       "count    7836.000000\n",
       "mean        0.000046\n",
       "std         0.000075\n",
       "min         0.000000\n",
       "25%         0.000000\n",
       "50%         0.000000\n",
       "75%         0.000089\n",
       "max         0.000600\n",
       "Name: Deaths_PC, dtype: float64"
      ]
     },
     "execution_count": 11,
     "metadata": {},
     "output_type": "execute_result"
    }
   ],
   "source": [
    "df['Deaths_PC'].describe()"
   ]
  },
  {
   "cell_type": "code",
   "execution_count": 28,
   "metadata": {},
   "outputs": [],
   "source": [
    "df2 = df.loc[((df['Morphine_Equivalents_PC']>0)&\n",
    "            (df['Morphine_Equivalents_PC'] <5))]"
   ]
  },
  {
   "cell_type": "code",
   "execution_count": 29,
   "metadata": {},
   "outputs": [
    {
     "name": "stderr",
     "output_type": "stream",
     "text": [
      "C:\\ProgramData\\Anaconda3\\lib\\site-packages\\plotnine\\stats\\stat_bin.py:93: PlotnineWarning: 'stat_bin()' using 'bins = 95'. Pick better value with 'binwidth'.\n",
      "  warn(msg.format(params['bins']), PlotnineWarning)\n"
     ]
    },
    {
     "data": {
      "image/png": "[encoded data removed]",
      "text/plain": [
       "<Figure size 640x480 with 1 Axes>"
      ]
     },
     "metadata": {},
     "output_type": "display_data"
    },
    {
     "data": {
      "text/plain": [
       "<ggplot: (-9223371882658389040)>"
      ]
     },
     "execution_count": 29,
     "metadata": {},
     "output_type": "execute_result"
    }
   ],
   "source": [
    "(ggplot(df2, aes(x='Morphine_Equivalents_PC')) +\n",
    "        geom_histogram(color = 'cornflowerblue') \n",
    "    )"
   ]
  },
  {
   "cell_type": "code",
   "execution_count": null,
   "metadata": {},
   "outputs": [],
   "source": []
  },
  {
   "cell_type": "code",
   "execution_count": null,
   "metadata": {},
   "outputs": [],
   "source": []
  },
  {
   "cell_type": "code",
   "execution_count": null,
   "metadata": {},
   "outputs": [],
   "source": [
    "(ggplot(wdi, aes(x='polityIV', y= 'gdppcap08', label = 'country')) +\n",
    "        geom_point(color = 'cornflowerblue') + geom_smooth(method = 'lowess') + geom_text(aes(label = 'country'))\n",
    "    )"
   ]
  },
  {
   "cell_type": "code",
   "execution_count": null,
   "metadata": {},
   "outputs": [],
   "source": []
  },
  {
   "cell_type": "code",
   "execution_count": null,
   "metadata": {},
   "outputs": [],
   "source": []
  }
 ],
 "metadata": {
  "kernelspec": {
   "display_name": "Python 3",
   "language": "python",
   "name": "python3"
  },
  "language_info": {
   "codemirror_mode": {
    "name": "ipython",
    "version": 3
   },
   "file_extension": ".py",
   "mimetype": "text/x-python",
   "name": "python",
   "nbconvert_exporter": "python",
   "pygments_lexer": "ipython3",
   "version": "3.7.5"
  }
 },
 "nbformat": 4,
 "nbformat_minor": 4
}
